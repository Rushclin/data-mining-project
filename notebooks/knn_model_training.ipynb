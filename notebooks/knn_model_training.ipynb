{
 "cells": [
  {
   "cell_type": "markdown",
   "id": "18a6bdee",
   "metadata": {},
   "source": [
    "Hello, Nous allons ici implementer un model de ML base sur l'algorithme KNN"
   ]
  },
  {
   "cell_type": "code",
   "execution_count": 1,
   "id": "32fdcd44",
   "metadata": {},
   "outputs": [],
   "source": [
    "# Importation des librairies necessaires.\n",
    "\n",
    "import numpy as np \n",
    "import pandas as pd "
   ]
  }
 ],
 "metadata": {
  "kernelspec": {
   "display_name": "Python 3 (ipykernel)",
   "language": "python",
   "name": "python3"
  },
  "language_info": {
   "codemirror_mode": {
    "name": "ipython",
    "version": 3
   },
   "file_extension": ".py",
   "mimetype": "text/x-python",
   "name": "python",
   "nbconvert_exporter": "python",
   "pygments_lexer": "ipython3",
   "version": "3.9.13"
  }
 },
 "nbformat": 4,
 "nbformat_minor": 5
}
